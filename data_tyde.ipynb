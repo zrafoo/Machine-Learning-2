{
 "cells": [
  {
   "cell_type": "code",
   "execution_count": 1,
   "metadata": {},
   "outputs": [],
   "source": [
    "import pandas as pd\n",
    "from sklearn.preprocessing import MinMaxScaler\n",
    "\n",
    "# Загрузка данных\n",
    "file_path = 'financial_loan.csv'\n",
    "data = pd.read_csv(file_path, delimiter=';', encoding='latin1')"
   ]
  },
  {
   "cell_type": "code",
   "execution_count": 2,
   "metadata": {},
   "outputs": [
    {
     "name": "stdout",
     "output_type": "stream",
     "text": [
      "Средние значения:\n",
      " annual_income    69645.874799\n",
      "dti                  0.133274\n",
      "loan_amount      11296.644413\n",
      "total_acc           22.132901\n",
      "total_payment    12263.788696\n",
      "dtype: float64\n",
      "Медианы:\n",
      " annual_income    60000.0000\n",
      "dti                  0.1342\n",
      "loan_amount      10000.0000\n",
      "total_acc           20.0000\n",
      "total_payment    10042.5000\n",
      "dtype: float64\n",
      "Стандартное отклонение:\n",
      " annual_income    64298.048523\n",
      "dti                  0.066658\n",
      "loan_amount       7460.878302\n",
      "total_acc           11.392806\n",
      "total_payment     9051.192116\n",
      "dtype: float64\n"
     ]
    }
   ],
   "source": [
    "# Выборочные описательные статистики\n",
    "columns_to_analyze = ['annual_income', 'dti', 'loan_amount', 'total_acc', 'total_payment']\n",
    "mean_values = data[columns_to_analyze].mean()\n",
    "median_values = data[columns_to_analyze].median()\n",
    "std_values = data[columns_to_analyze].std()\n",
    "\n",
    "print(\"Средние значения:\\n\", mean_values)\n",
    "print(\"Медианы:\\n\", median_values)\n",
    "print(\"Стандартное отклонение:\\n\", std_values)"
   ]
  },
  {
   "cell_type": "code",
   "execution_count": 3,
   "metadata": {},
   "outputs": [
    {
     "name": "stdout",
     "output_type": "stream",
     "text": [
      "Пропущенные значения до заполнения:\n",
      " id                          0\n",
      "address_state               0\n",
      "application_type            0\n",
      "emp_length                  0\n",
      "emp_title                1438\n",
      "grade                       6\n",
      "home_ownership              6\n",
      "issue_date                  6\n",
      "last_credit_pull_date       6\n",
      "last_payment_date           6\n",
      "loan_status                 6\n",
      "next_payment_date           6\n",
      "member_id                   6\n",
      "purpose                     6\n",
      "sub_grade                   6\n",
      "term                        6\n",
      "verification_status         6\n",
      "annual_income               6\n",
      "dti                         6\n",
      "installment                 6\n",
      "int_rate                    6\n",
      "loan_amount                 6\n",
      "total_acc                   6\n",
      "total_payment               6\n",
      "dtype: int64\n",
      "Пропущенные значения после заполнения:\n",
      " id                          0\n",
      "address_state               0\n",
      "application_type            0\n",
      "emp_length                  0\n",
      "emp_title                1438\n",
      "grade                       6\n",
      "home_ownership              6\n",
      "issue_date                  6\n",
      "last_credit_pull_date       6\n",
      "last_payment_date           6\n",
      "loan_status                 6\n",
      "next_payment_date           6\n",
      "member_id                   0\n",
      "purpose                     6\n",
      "sub_grade                   6\n",
      "term                        6\n",
      "verification_status         6\n",
      "annual_income               0\n",
      "dti                         0\n",
      "installment                 6\n",
      "int_rate                    0\n",
      "loan_amount                 0\n",
      "total_acc                   0\n",
      "total_payment               0\n",
      "dtype: int64\n"
     ]
    }
   ],
   "source": [
    "# Обработка пропущенных значений\n",
    "missing_values = data.isnull().sum()\n",
    "print(\"Пропущенные значения до заполнения:\\n\", missing_values)\n",
    "\n",
    "data_filled = data.fillna(data.mean(numeric_only=True))\n",
    "missing_values_after = data_filled.isnull().sum()\n",
    "print(\"Пропущенные значения после заполнения:\\n\", missing_values_after)"
   ]
  },
  {
   "cell_type": "code",
   "execution_count": 4,
   "metadata": {},
   "outputs": [
    {
     "name": "stdout",
     "output_type": "stream",
     "text": [
      "Первые несколько строк нормализованных данных:\n",
      "    annual_income  loan_amount  total_payment\n",
      "0       0.004336     0.057971       0.016658\n",
      "1       0.007338     0.072464       0.066718\n",
      "2       0.007672     0.333333       0.059593\n",
      "3       0.006338     0.115942       0.083325\n",
      "4       0.013175     0.086957       0.064941\n"
     ]
    }
   ],
   "source": [
    "# Нормализация данных\n",
    "scaler = MinMaxScaler()\n",
    "data_normalized = data_filled.copy()\n",
    "data_normalized[['annual_income', 'loan_amount', 'total_payment']] = scaler.fit_transform(data_filled[['annual_income', 'loan_amount', 'total_payment']])\n",
    "\n",
    "print(\"Первые несколько строк нормализованных данных:\\n\", data_normalized[['annual_income', 'loan_amount', 'total_payment']].head())"
   ]
  },
  {
   "cell_type": "code",
   "execution_count": 5,
   "metadata": {},
   "outputs": [
    {
     "name": "stdout",
     "output_type": "stream",
     "text": [
      "Коэффициенты корреляции:\n",
      "                annual_income  loan_amount  total_payment\n",
      "annual_income       1.000000     0.268169       0.254599\n",
      "loan_amount         0.268169     1.000000       0.887481\n",
      "total_payment       0.254599     0.887481       1.000000\n"
     ]
    }
   ],
   "source": [
    "# Коэффициенты корреляции\n",
    "correlation_matrix = data_filled[['annual_income', 'loan_amount', 'total_payment']].corr()\n",
    "print(\"Коэффициенты корреляции:\\n\", correlation_matrix)"
   ]
  },
  {
   "cell_type": "code",
   "execution_count": 6,
   "metadata": {},
   "outputs": [
    {
     "name": "stdout",
     "output_type": "stream",
     "text": [
      "Обработанные данные сохранены в файл: processed_financial_loan.csv\n"
     ]
    }
   ],
   "source": [
    "# Сохранение обработанных данных в новый CSV-файл\n",
    "output_file_path = 'processed_financial_loan.csv'\n",
    "data_normalized.to_csv(output_file_path, index=False)\n",
    "\n",
    "print(f\"Обработанные данные сохранены в файл: {output_file_path}\")"
   ]
  },
  {
   "cell_type": "code",
   "execution_count": null,
   "metadata": {},
   "outputs": [],
   "source": []
  }
 ],
 "metadata": {
  "kernelspec": {
   "display_name": "Python 3 (ipykernel)",
   "language": "python",
   "name": "python3"
  },
  "language_info": {
   "codemirror_mode": {
    "name": "ipython",
    "version": 3
   },
   "file_extension": ".py",
   "mimetype": "text/x-python",
   "name": "python",
   "nbconvert_exporter": "python",
   "pygments_lexer": "ipython3",
   "version": "3.10.12"
  }
 },
 "nbformat": 4,
 "nbformat_minor": 2
}
